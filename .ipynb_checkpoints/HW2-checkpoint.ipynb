{
 "cells": [
  {
   "cell_type": "code",
   "execution_count": 81,
   "metadata": {},
   "outputs": [],
   "source": [
    "import matplotlib.pyplot as plt\n",
    "import pandas as pd\n",
    "import numpy as np\n",
    "from pandas import DataFrame\n",
    "import seaborn as sns\n",
    "import os\n"
   ]
  },
  {
   "cell_type": "code",
   "execution_count": 6,
   "metadata": {},
   "outputs": [],
   "source": [
    "songdata_df = DataFrame(pd.read_csv(\"song_data.csv\", index_col = 0))\n",
    "songinfo_df = DataFrame(pd.read_csv(\"song_info.csv\", index_col = 0))"
   ]
  },
  {
   "cell_type": "code",
   "execution_count": 7,
   "metadata": {},
   "outputs": [
    {
     "data": {
      "text/html": [
       "<div>\n",
       "<style scoped>\n",
       "    .dataframe tbody tr th:only-of-type {\n",
       "        vertical-align: middle;\n",
       "    }\n",
       "\n",
       "    .dataframe tbody tr th {\n",
       "        vertical-align: top;\n",
       "    }\n",
       "\n",
       "    .dataframe thead th {\n",
       "        text-align: right;\n",
       "    }\n",
       "</style>\n",
       "<table border=\"1\" class=\"dataframe\">\n",
       "  <thead>\n",
       "    <tr style=\"text-align: right;\">\n",
       "      <th></th>\n",
       "      <th>song_popularity</th>\n",
       "      <th>song_duration_ms</th>\n",
       "      <th>acousticness</th>\n",
       "      <th>danceability</th>\n",
       "      <th>energy</th>\n",
       "      <th>instrumentalness</th>\n",
       "      <th>key</th>\n",
       "      <th>liveness</th>\n",
       "      <th>loudness</th>\n",
       "      <th>audio_mode</th>\n",
       "      <th>speechiness</th>\n",
       "      <th>tempo</th>\n",
       "      <th>time_signature</th>\n",
       "      <th>audio_valence</th>\n",
       "    </tr>\n",
       "    <tr>\n",
       "      <th>song_name</th>\n",
       "      <th></th>\n",
       "      <th></th>\n",
       "      <th></th>\n",
       "      <th></th>\n",
       "      <th></th>\n",
       "      <th></th>\n",
       "      <th></th>\n",
       "      <th></th>\n",
       "      <th></th>\n",
       "      <th></th>\n",
       "      <th></th>\n",
       "      <th></th>\n",
       "      <th></th>\n",
       "      <th></th>\n",
       "    </tr>\n",
       "  </thead>\n",
       "  <tbody>\n",
       "    <tr>\n",
       "      <th>Boulevard of Broken Dreams</th>\n",
       "      <td>73</td>\n",
       "      <td>262333</td>\n",
       "      <td>0.005520</td>\n",
       "      <td>0.496</td>\n",
       "      <td>0.682</td>\n",
       "      <td>0.000029</td>\n",
       "      <td>8</td>\n",
       "      <td>0.0589</td>\n",
       "      <td>-4.095</td>\n",
       "      <td>1</td>\n",
       "      <td>0.0294</td>\n",
       "      <td>167.060</td>\n",
       "      <td>4</td>\n",
       "      <td>0.474</td>\n",
       "    </tr>\n",
       "    <tr>\n",
       "      <th>In The End</th>\n",
       "      <td>66</td>\n",
       "      <td>216933</td>\n",
       "      <td>0.010300</td>\n",
       "      <td>0.542</td>\n",
       "      <td>0.853</td>\n",
       "      <td>0.000000</td>\n",
       "      <td>3</td>\n",
       "      <td>0.1080</td>\n",
       "      <td>-6.407</td>\n",
       "      <td>0</td>\n",
       "      <td>0.0498</td>\n",
       "      <td>105.256</td>\n",
       "      <td>4</td>\n",
       "      <td>0.370</td>\n",
       "    </tr>\n",
       "    <tr>\n",
       "      <th>Seven Nation Army</th>\n",
       "      <td>76</td>\n",
       "      <td>231733</td>\n",
       "      <td>0.008170</td>\n",
       "      <td>0.737</td>\n",
       "      <td>0.463</td>\n",
       "      <td>0.447000</td>\n",
       "      <td>0</td>\n",
       "      <td>0.2550</td>\n",
       "      <td>-7.828</td>\n",
       "      <td>1</td>\n",
       "      <td>0.0792</td>\n",
       "      <td>123.881</td>\n",
       "      <td>4</td>\n",
       "      <td>0.324</td>\n",
       "    </tr>\n",
       "    <tr>\n",
       "      <th>By The Way</th>\n",
       "      <td>74</td>\n",
       "      <td>216933</td>\n",
       "      <td>0.026400</td>\n",
       "      <td>0.451</td>\n",
       "      <td>0.970</td>\n",
       "      <td>0.003550</td>\n",
       "      <td>0</td>\n",
       "      <td>0.1020</td>\n",
       "      <td>-4.938</td>\n",
       "      <td>1</td>\n",
       "      <td>0.1070</td>\n",
       "      <td>122.444</td>\n",
       "      <td>4</td>\n",
       "      <td>0.198</td>\n",
       "    </tr>\n",
       "    <tr>\n",
       "      <th>How You Remind Me</th>\n",
       "      <td>56</td>\n",
       "      <td>223826</td>\n",
       "      <td>0.000954</td>\n",
       "      <td>0.447</td>\n",
       "      <td>0.766</td>\n",
       "      <td>0.000000</td>\n",
       "      <td>10</td>\n",
       "      <td>0.1130</td>\n",
       "      <td>-5.065</td>\n",
       "      <td>1</td>\n",
       "      <td>0.0313</td>\n",
       "      <td>172.011</td>\n",
       "      <td>4</td>\n",
       "      <td>0.574</td>\n",
       "    </tr>\n",
       "  </tbody>\n",
       "</table>\n",
       "</div>"
      ],
      "text/plain": [
       "                            song_popularity  song_duration_ms  acousticness  \\\n",
       "song_name                                                                     \n",
       "Boulevard of Broken Dreams               73            262333      0.005520   \n",
       "In The End                               66            216933      0.010300   \n",
       "Seven Nation Army                        76            231733      0.008170   \n",
       "By The Way                               74            216933      0.026400   \n",
       "How You Remind Me                        56            223826      0.000954   \n",
       "\n",
       "                            danceability  energy  instrumentalness  key  \\\n",
       "song_name                                                                 \n",
       "Boulevard of Broken Dreams         0.496   0.682          0.000029    8   \n",
       "In The End                         0.542   0.853          0.000000    3   \n",
       "Seven Nation Army                  0.737   0.463          0.447000    0   \n",
       "By The Way                         0.451   0.970          0.003550    0   \n",
       "How You Remind Me                  0.447   0.766          0.000000   10   \n",
       "\n",
       "                            liveness  loudness  audio_mode  speechiness  \\\n",
       "song_name                                                                 \n",
       "Boulevard of Broken Dreams    0.0589    -4.095           1       0.0294   \n",
       "In The End                    0.1080    -6.407           0       0.0498   \n",
       "Seven Nation Army             0.2550    -7.828           1       0.0792   \n",
       "By The Way                    0.1020    -4.938           1       0.1070   \n",
       "How You Remind Me             0.1130    -5.065           1       0.0313   \n",
       "\n",
       "                              tempo  time_signature  audio_valence  \n",
       "song_name                                                           \n",
       "Boulevard of Broken Dreams  167.060               4          0.474  \n",
       "In The End                  105.256               4          0.370  \n",
       "Seven Nation Army           123.881               4          0.324  \n",
       "By The Way                  122.444               4          0.198  \n",
       "How You Remind Me           172.011               4          0.574  "
      ]
     },
     "execution_count": 7,
     "metadata": {},
     "output_type": "execute_result"
    }
   ],
   "source": [
    "songdata_df.head()"
   ]
  },
  {
   "cell_type": "code",
   "execution_count": 8,
   "metadata": {},
   "outputs": [
    {
     "data": {
      "text/html": [
       "<div>\n",
       "<style scoped>\n",
       "    .dataframe tbody tr th:only-of-type {\n",
       "        vertical-align: middle;\n",
       "    }\n",
       "\n",
       "    .dataframe tbody tr th {\n",
       "        vertical-align: top;\n",
       "    }\n",
       "\n",
       "    .dataframe thead th {\n",
       "        text-align: right;\n",
       "    }\n",
       "</style>\n",
       "<table border=\"1\" class=\"dataframe\">\n",
       "  <thead>\n",
       "    <tr style=\"text-align: right;\">\n",
       "      <th></th>\n",
       "      <th>artist_name</th>\n",
       "      <th>album_names</th>\n",
       "      <th>playlist</th>\n",
       "    </tr>\n",
       "    <tr>\n",
       "      <th>song_name</th>\n",
       "      <th></th>\n",
       "      <th></th>\n",
       "      <th></th>\n",
       "    </tr>\n",
       "  </thead>\n",
       "  <tbody>\n",
       "    <tr>\n",
       "      <th>Boulevard of Broken Dreams</th>\n",
       "      <td>Green Day</td>\n",
       "      <td>Greatest Hits: God's Favorite Band</td>\n",
       "      <td>00s Rock Anthems</td>\n",
       "    </tr>\n",
       "    <tr>\n",
       "      <th>In The End</th>\n",
       "      <td>Linkin Park</td>\n",
       "      <td>Hybrid Theory</td>\n",
       "      <td>00s Rock Anthems</td>\n",
       "    </tr>\n",
       "    <tr>\n",
       "      <th>Seven Nation Army</th>\n",
       "      <td>The White Stripes</td>\n",
       "      <td>Elephant</td>\n",
       "      <td>00s Rock Anthems</td>\n",
       "    </tr>\n",
       "    <tr>\n",
       "      <th>By The Way</th>\n",
       "      <td>Red Hot Chili Peppers</td>\n",
       "      <td>By The Way (Deluxe Version)</td>\n",
       "      <td>00s Rock Anthems</td>\n",
       "    </tr>\n",
       "    <tr>\n",
       "      <th>How You Remind Me</th>\n",
       "      <td>Nickelback</td>\n",
       "      <td>Silver Side Up</td>\n",
       "      <td>00s Rock Anthems</td>\n",
       "    </tr>\n",
       "  </tbody>\n",
       "</table>\n",
       "</div>"
      ],
      "text/plain": [
       "                                      artist_name  \\\n",
       "song_name                                           \n",
       "Boulevard of Broken Dreams              Green Day   \n",
       "In The End                            Linkin Park   \n",
       "Seven Nation Army               The White Stripes   \n",
       "By The Way                  Red Hot Chili Peppers   \n",
       "How You Remind Me                      Nickelback   \n",
       "\n",
       "                                                   album_names  \\\n",
       "song_name                                                        \n",
       "Boulevard of Broken Dreams  Greatest Hits: God's Favorite Band   \n",
       "In The End                                       Hybrid Theory   \n",
       "Seven Nation Army                                     Elephant   \n",
       "By The Way                         By The Way (Deluxe Version)   \n",
       "How You Remind Me                               Silver Side Up   \n",
       "\n",
       "                                    playlist  \n",
       "song_name                                     \n",
       "Boulevard of Broken Dreams  00s Rock Anthems  \n",
       "In The End                  00s Rock Anthems  \n",
       "Seven Nation Army           00s Rock Anthems  \n",
       "By The Way                  00s Rock Anthems  \n",
       "How You Remind Me           00s Rock Anthems  "
      ]
     },
     "execution_count": 8,
     "metadata": {},
     "output_type": "execute_result"
    }
   ],
   "source": [
    "songinfo_df.head()"
   ]
  },
  {
   "cell_type": "code",
   "execution_count": 9,
   "metadata": {},
   "outputs": [],
   "source": [
    "songs_df = pd.concat([songdata_df, songinfo_df], axis=1)"
   ]
  },
  {
   "cell_type": "code",
   "execution_count": 10,
   "metadata": {},
   "outputs": [
    {
     "data": {
      "text/html": [
       "<div>\n",
       "<style scoped>\n",
       "    .dataframe tbody tr th:only-of-type {\n",
       "        vertical-align: middle;\n",
       "    }\n",
       "\n",
       "    .dataframe tbody tr th {\n",
       "        vertical-align: top;\n",
       "    }\n",
       "\n",
       "    .dataframe thead th {\n",
       "        text-align: right;\n",
       "    }\n",
       "</style>\n",
       "<table border=\"1\" class=\"dataframe\">\n",
       "  <thead>\n",
       "    <tr style=\"text-align: right;\">\n",
       "      <th></th>\n",
       "      <th>song_popularity</th>\n",
       "      <th>song_duration_ms</th>\n",
       "      <th>acousticness</th>\n",
       "      <th>danceability</th>\n",
       "      <th>energy</th>\n",
       "      <th>instrumentalness</th>\n",
       "      <th>key</th>\n",
       "      <th>liveness</th>\n",
       "      <th>loudness</th>\n",
       "      <th>audio_mode</th>\n",
       "      <th>speechiness</th>\n",
       "      <th>tempo</th>\n",
       "      <th>time_signature</th>\n",
       "      <th>audio_valence</th>\n",
       "      <th>artist_name</th>\n",
       "      <th>album_names</th>\n",
       "      <th>playlist</th>\n",
       "    </tr>\n",
       "    <tr>\n",
       "      <th>song_name</th>\n",
       "      <th></th>\n",
       "      <th></th>\n",
       "      <th></th>\n",
       "      <th></th>\n",
       "      <th></th>\n",
       "      <th></th>\n",
       "      <th></th>\n",
       "      <th></th>\n",
       "      <th></th>\n",
       "      <th></th>\n",
       "      <th></th>\n",
       "      <th></th>\n",
       "      <th></th>\n",
       "      <th></th>\n",
       "      <th></th>\n",
       "      <th></th>\n",
       "      <th></th>\n",
       "    </tr>\n",
       "  </thead>\n",
       "  <tbody>\n",
       "    <tr>\n",
       "      <th>Boulevard of Broken Dreams</th>\n",
       "      <td>73</td>\n",
       "      <td>262333</td>\n",
       "      <td>0.005520</td>\n",
       "      <td>0.496</td>\n",
       "      <td>0.682</td>\n",
       "      <td>0.000029</td>\n",
       "      <td>8</td>\n",
       "      <td>0.0589</td>\n",
       "      <td>-4.095</td>\n",
       "      <td>1</td>\n",
       "      <td>0.0294</td>\n",
       "      <td>167.060</td>\n",
       "      <td>4</td>\n",
       "      <td>0.474</td>\n",
       "      <td>Green Day</td>\n",
       "      <td>Greatest Hits: God's Favorite Band</td>\n",
       "      <td>00s Rock Anthems</td>\n",
       "    </tr>\n",
       "    <tr>\n",
       "      <th>In The End</th>\n",
       "      <td>66</td>\n",
       "      <td>216933</td>\n",
       "      <td>0.010300</td>\n",
       "      <td>0.542</td>\n",
       "      <td>0.853</td>\n",
       "      <td>0.000000</td>\n",
       "      <td>3</td>\n",
       "      <td>0.1080</td>\n",
       "      <td>-6.407</td>\n",
       "      <td>0</td>\n",
       "      <td>0.0498</td>\n",
       "      <td>105.256</td>\n",
       "      <td>4</td>\n",
       "      <td>0.370</td>\n",
       "      <td>Linkin Park</td>\n",
       "      <td>Hybrid Theory</td>\n",
       "      <td>00s Rock Anthems</td>\n",
       "    </tr>\n",
       "    <tr>\n",
       "      <th>Seven Nation Army</th>\n",
       "      <td>76</td>\n",
       "      <td>231733</td>\n",
       "      <td>0.008170</td>\n",
       "      <td>0.737</td>\n",
       "      <td>0.463</td>\n",
       "      <td>0.447000</td>\n",
       "      <td>0</td>\n",
       "      <td>0.2550</td>\n",
       "      <td>-7.828</td>\n",
       "      <td>1</td>\n",
       "      <td>0.0792</td>\n",
       "      <td>123.881</td>\n",
       "      <td>4</td>\n",
       "      <td>0.324</td>\n",
       "      <td>The White Stripes</td>\n",
       "      <td>Elephant</td>\n",
       "      <td>00s Rock Anthems</td>\n",
       "    </tr>\n",
       "    <tr>\n",
       "      <th>By The Way</th>\n",
       "      <td>74</td>\n",
       "      <td>216933</td>\n",
       "      <td>0.026400</td>\n",
       "      <td>0.451</td>\n",
       "      <td>0.970</td>\n",
       "      <td>0.003550</td>\n",
       "      <td>0</td>\n",
       "      <td>0.1020</td>\n",
       "      <td>-4.938</td>\n",
       "      <td>1</td>\n",
       "      <td>0.1070</td>\n",
       "      <td>122.444</td>\n",
       "      <td>4</td>\n",
       "      <td>0.198</td>\n",
       "      <td>Red Hot Chili Peppers</td>\n",
       "      <td>By The Way (Deluxe Version)</td>\n",
       "      <td>00s Rock Anthems</td>\n",
       "    </tr>\n",
       "    <tr>\n",
       "      <th>How You Remind Me</th>\n",
       "      <td>56</td>\n",
       "      <td>223826</td>\n",
       "      <td>0.000954</td>\n",
       "      <td>0.447</td>\n",
       "      <td>0.766</td>\n",
       "      <td>0.000000</td>\n",
       "      <td>10</td>\n",
       "      <td>0.1130</td>\n",
       "      <td>-5.065</td>\n",
       "      <td>1</td>\n",
       "      <td>0.0313</td>\n",
       "      <td>172.011</td>\n",
       "      <td>4</td>\n",
       "      <td>0.574</td>\n",
       "      <td>Nickelback</td>\n",
       "      <td>Silver Side Up</td>\n",
       "      <td>00s Rock Anthems</td>\n",
       "    </tr>\n",
       "  </tbody>\n",
       "</table>\n",
       "</div>"
      ],
      "text/plain": [
       "                            song_popularity  song_duration_ms  acousticness  \\\n",
       "song_name                                                                     \n",
       "Boulevard of Broken Dreams               73            262333      0.005520   \n",
       "In The End                               66            216933      0.010300   \n",
       "Seven Nation Army                        76            231733      0.008170   \n",
       "By The Way                               74            216933      0.026400   \n",
       "How You Remind Me                        56            223826      0.000954   \n",
       "\n",
       "                            danceability  energy  instrumentalness  key  \\\n",
       "song_name                                                                 \n",
       "Boulevard of Broken Dreams         0.496   0.682          0.000029    8   \n",
       "In The End                         0.542   0.853          0.000000    3   \n",
       "Seven Nation Army                  0.737   0.463          0.447000    0   \n",
       "By The Way                         0.451   0.970          0.003550    0   \n",
       "How You Remind Me                  0.447   0.766          0.000000   10   \n",
       "\n",
       "                            liveness  loudness  audio_mode  speechiness  \\\n",
       "song_name                                                                 \n",
       "Boulevard of Broken Dreams    0.0589    -4.095           1       0.0294   \n",
       "In The End                    0.1080    -6.407           0       0.0498   \n",
       "Seven Nation Army             0.2550    -7.828           1       0.0792   \n",
       "By The Way                    0.1020    -4.938           1       0.1070   \n",
       "How You Remind Me             0.1130    -5.065           1       0.0313   \n",
       "\n",
       "                              tempo  time_signature  audio_valence  \\\n",
       "song_name                                                            \n",
       "Boulevard of Broken Dreams  167.060               4          0.474   \n",
       "In The End                  105.256               4          0.370   \n",
       "Seven Nation Army           123.881               4          0.324   \n",
       "By The Way                  122.444               4          0.198   \n",
       "How You Remind Me           172.011               4          0.574   \n",
       "\n",
       "                                      artist_name  \\\n",
       "song_name                                           \n",
       "Boulevard of Broken Dreams              Green Day   \n",
       "In The End                            Linkin Park   \n",
       "Seven Nation Army               The White Stripes   \n",
       "By The Way                  Red Hot Chili Peppers   \n",
       "How You Remind Me                      Nickelback   \n",
       "\n",
       "                                                   album_names  \\\n",
       "song_name                                                        \n",
       "Boulevard of Broken Dreams  Greatest Hits: God's Favorite Band   \n",
       "In The End                                       Hybrid Theory   \n",
       "Seven Nation Army                                     Elephant   \n",
       "By The Way                         By The Way (Deluxe Version)   \n",
       "How You Remind Me                               Silver Side Up   \n",
       "\n",
       "                                    playlist  \n",
       "song_name                                     \n",
       "Boulevard of Broken Dreams  00s Rock Anthems  \n",
       "In The End                  00s Rock Anthems  \n",
       "Seven Nation Army           00s Rock Anthems  \n",
       "By The Way                  00s Rock Anthems  \n",
       "How You Remind Me           00s Rock Anthems  "
      ]
     },
     "execution_count": 10,
     "metadata": {},
     "output_type": "execute_result"
    }
   ],
   "source": [
    "songs_df.head()"
   ]
  },
  {
   "cell_type": "markdown",
   "metadata": {},
   "source": [
    "**Song Popularity**\n",
    "\n",
    "The popularity of an artist's track relative to the rest of their discography. The value will be between 0 and 100, with 100 being the most popular.\n",
    "The popularity of a track is a value between 0 and 100, with 100 being the most popular. The popularity is calculated by algorithm and is based, in the most part, on the total number of plays the track has had and how recent those plays are.\n",
    "\n",
    "**Song Duration (ms)**\n",
    "\n",
    "Contains data on the length of time the song is in milliseconds\n",
    "\n",
    "**Acousticness**\n",
    "\n",
    "A measurement from 0.0 to 1.0 of whether the track is acoustic. 1.0 represents highest confidence the track is acoustic.\n",
    "\n",
    "**Danceability**\n",
    "\n",
    "Danceability describes how suitable a track is for dancing based on a combination of musical elements including tempo, rhythm stability, beat strength, and overall regularity. A value of type float is returned between 0.0 and 1.0, where 0.0 is least danceable and 1.0 is most danceable.\n",
    "\n",
    "**Energy**\n",
    "\n",
    "Energy is a measure of type float that is between 0.0 to 1.0 and represents a perceptual measure of intensity and activity. Energetic tracks can be described as fast, loud, and noisy. For example, death metal has high energy, while a slow jazz would register low on the scale.\n",
    "\n",
    "**Instrumentalness**\n",
    "\n",
    "Predicts whether a track contains no vocals by returning a value of type float that is between 0.0 and 1.0. “Ooh” and “aah” sounds are treated as instrumental in this context. Rap or spoken word tracks are clearly “vocal”. The closer the instrumentalness value is to 1.0, the greater likelihood the track contains no vocal content. Values above 0.5 are intended to represent instrumental tracks, but confidence is higher as the value approaches 1.0.\n",
    "\n",
    "**Liveness**\n",
    "\n",
    "Detects the presence of an audience in the recording. Higher liveness values represent an increased probability that the track was performed live. A value above 0.8 provides strong likelihood that the track is live.\n",
    "\n",
    "\n",
    "**Loudness**\n",
    "\n",
    "The overall loudness of a track in decibels (dB). Loudness values are averaged across the entire track and are useful for comparing relative loudness of tracks. Loudness is the quality of a sound that is the primary psychological correlate of physical strength (amplitude). Values typical range between -60 and 0 db\n",
    "\n",
    "**Audio Mode**\n",
    "\n",
    "Mode indicates the modality (major or minor) of a track, the type of scale from which its melodic content is derived. Major is represented by 1 and minor is 0.\n",
    "\n",
    "**Speechiness**\n",
    "\n",
    "Speechiness detects the presence of spoken words in a track. The more exclusively speech-like the recording (e.g. talk show, audio book, poetry), the closer to 1.0 the attribute value. Values above 0.66 describe tracks that are probably made entirely of spoken words. Values between 0.33 and 0.66 describe tracks that may contain both music and speech, either in sections or layered, including such cases as rap music. Values below 0.33 most likely represent music and other non-speech-like tracks.\n",
    "    \n",
    "**Tempo**\n",
    "\n",
    "The overall estimated tempo of a track in beats per minute (BPM). In musical terminology, tempo is the speed or pace of a given piece and derives directly from the average beat duration.\n",
    "\n",
    "**Time Signature**\n",
    "\n",
    "An estimated overall time signature of a track. The time signature (meter) is a notational convention to specify how many beats are in each bar (or measure).\n",
    "\n",
    "**Key Signature**\n",
    "\n",
    "Key signature is represented on a scale, where integers are mapped to pitches using standard Pitch Class notation . E.g. 0 = C, 1 = C♯/D♭, 2 = D, and so on. \n",
    "\n",
    "**Audio Valence**\n",
    "\n",
    "A measure from 0.0 to 1.0 describing the musical positiveness conveyed by a track. Tracks with high valence sound more positive (e.g. happy, cheerful, euphoric), while tracks with low valence sound more negative (e.g. sad, depressed, angry).\n",
    "\n",
    "**Artist Name**\n",
    "\n",
    "Artist that wrote the song\n",
    "\n",
    "**ALbum Names**\n",
    "Album that the song was released on\n",
    "\n",
    "**Playlist**\n",
    "Playlist that song originates from. **Note: Some songs may be part of multiple playlists**"
   ]
  },
  {
   "cell_type": "code",
   "execution_count": 11,
   "metadata": {},
   "outputs": [
    {
     "data": {
      "text/plain": [
       "array(['song_popularity', 'song_duration_ms', 'acousticness',\n",
       "       'danceability', 'energy', 'instrumentalness', 'key', 'liveness',\n",
       "       'loudness', 'audio_mode', 'speechiness', 'tempo', 'time_signature',\n",
       "       'audio_valence', 'artist_name', 'album_names', 'playlist'],\n",
       "      dtype=object)"
      ]
     },
     "execution_count": 11,
     "metadata": {},
     "output_type": "execute_result"
    }
   ],
   "source": [
    "songs_df.columns.values"
   ]
  },
  {
   "cell_type": "code",
   "execution_count": 15,
   "metadata": {},
   "outputs": [],
   "source": [
    "playlist_sizes = DataFrame(songs_df.playlist.value_counts())"
   ]
  },
  {
   "cell_type": "code",
   "execution_count": 79,
   "metadata": {},
   "outputs": [
    {
     "name": "stdout",
     "output_type": "stream",
     "text": [
      "80s Hard Rock\n",
      "Young & Free\n",
      "Bedroom Pop\n",
      "60s Rock Anthems\n",
      "80s Rock Anthems\n",
      "Lush Lofi\n",
      "Low-Key\n",
      "You & Me\n",
      "Retro Pop\n",
      "Feel-Good Indie Rock\n",
      "Have a Great Day!\n",
      "Alternative 90s\n",
      "Guilty Pleasures\n",
      "70s Rock Anthems\n",
      "Piano in the Background\n",
      "Country's Greatest Hits_  The '90s\n",
      "Happy Folk\n",
      "Rockin' Vibes\n",
      "Country's Greatest Hits_  The '60s\n",
      "Alternative 80s\n",
      "Off the Strength\n",
      "The GRAMMYs Official Playlist\n",
      "90s Pop Rock Essentials\n",
      "Soft Pop Hits\n",
      "NTC_ Studio Sounds\n",
      "Chill Instrumental Beats\n",
      "Get Turnt\n",
      "It's ALT Good!\n",
      "Soak Up the Sun\n",
      "Alternative 10s\n",
      "Mellow Bars\n",
      "NTC_ High Intensity Training Tracks\n",
      "Cali Fire\n",
      "Contemporary Blend\n",
      "Country's Greatest Hits_  The '80s\n",
      "Nike Running Tempo Mix\n",
      "Country's Greatest Hits_  The '70's\n",
      "All Out 80s\n",
      "New Music Friday\n",
      "All Out 00s\n",
      "One-Hit Wonders\n",
      "Persian Essentials\n",
      "Acoustic Hits\n",
      "All Out 90s\n",
      "The Realest Down South\n",
      "Most Necessary\n",
      "Workday_ Pop\n",
      "I Love My '90s Hip-Hop\n",
      "Feelin' Good\n",
      "NTC_ Gym Strong\n",
      "Infinite Acoustic\n",
      "Your Favorite Coffeehouse\n",
      "Acoustic Covers\n",
      "Indie Workout\n",
      "Signed XOXO\n",
      "Country's Greatest Hits_  The '50s\n",
      "All Out 70s\n",
      "All Out 60s\n",
      "Swagger\n",
      "Songs to Sing in the Car\n",
      "Pumping Iron\n",
      "One More Rep\n",
      "K-Hip-Hop Beats\n",
      "Autumn Leaves\n",
      "Early Alternative\n",
      "Wake Up Happy\n",
      "Cool Down\n",
      "Stay Wild\n",
      "Rock Me UP!\n",
      "Ill Lyricist\n",
      "Rap UK\n",
      "Mood Booster\n",
      "Soul Coffee\n",
      "Abuela's Mix\n",
      "The Most Beautiful Songs in the World\n",
      "Grime Instrumentals\n",
      "Alternative 00s\n",
      "Alternative 70s\n",
      "The '80s All Lined Up\n",
      "2000s Smash Hits\n",
      "A Perfect Day\n",
      "Alternative 60s\n",
      "80s Smash Hits\n",
      "Songs to Sing in the Shower\n",
      "Latin Pride\n",
      "Pop Rising\n",
      "NIKE RUNNING FASTEST MILE\n",
      "Weekend Hangouts\n",
      "Hard Rock Workout\n",
      "Punk Rock Workout\n",
      "90's Hip-Hop Don't Stop\n",
      "Mega Hit Mix\n",
      "Good Vibes\n",
      "All Out 50s\n",
      "Salsa Hits_ Los 90s\n",
      "Orgullo Afro-Latino\n",
      "EDM Workout\n",
      "90s Acoustic\n",
      "Grime Shutdown\n",
      "Motivation Mix\n",
      "Deep Dark Indie\n",
      "Pop Chile\n",
      "Women of Pop\n",
      "Made in Chile\n",
      "Lofi Hip-Hop\n",
      "Pop Sauce\n",
      "Country's Greatest Hits_  The '40's\n",
      "Cumbia Anthems\n",
      "Extreme Metal Workout\n",
      "G.O.O.D. Music\n",
      "Adrenaline Workout\n",
      "Lounge - Soft House\n",
      "POLLEN\n",
      "All The Feels\n",
      "Canciones del Recuerdo\n",
      "LA Pops\n",
      "Teen Party\n",
      "Throwback Workout\n",
      "Urban Poet\n",
      "Tomorrow's Hits\n",
      "70s & 80s Acoustic\n",
      "Hype\n",
      "Sawa\n",
      "Good Times_ Great Oldies\n",
      "La Troca\n",
      "Now Hear This\n",
      "Cardio\n",
      "Mellow Pop\n",
      "I Love My '80s Hip-Hop\n",
      "Boleros\n",
      "The Rhythm & Beats\n",
      "Alternative Hip Hop\n",
      "Rep The Set\n",
      "Latin Pop Classics\n",
      "Running & Workout\n",
      "Latin Party Anthems\n",
      "ThrowbackThursday\n",
      "Pop Matters\n",
      "Everyday Favorites\n",
      "Hip Hop Made Me\n",
      "00s Rock Anthems\n",
      "100% LatinX\n",
      "LatinX Indie\n",
      "Certified Gold\n",
      "Powerwalk!\n",
      "Hype Rhythm\n",
      "Afropop.csv\n",
      "All A Cappella\n",
      "Latinos Unidos\n",
      "Clinically Cold\n",
      "Sad Beats\n",
      "Trap Instrumental Beats\n",
      "Crowd Pleasers\n",
      "Fresh Out The Rapper\n",
      "Power Workout\n",
      "Beats & Rhymes\n",
      "Anti Pop\n",
      "Mambo Classics\n",
      "Left of Center\n",
      "Country Coffeehouse\n",
      "Wild Cards_ Winter Mix\n",
      "Hot Rhythmic\n",
      "HIIT-Hop\n",
      "Confidence Boost\n",
      "Straight Off The Porch\n",
      "Throwback_ Latin Explosion\n",
      "Hot Country\n",
      "Fitness Araby\n",
      "Life Sucks\n",
      "Reggaeton Classics\n",
      "Rock Your Body\n",
      "Latin Jazz\n",
      "State of Mind\n",
      "Body & Soul\n",
      "Global X\n",
      "Epic Workout\n",
      "Just Get Going! 155 BPM\n",
      "Happy Beats\n",
      "New Tejano\n",
      "Beast Mode\n",
      "Love, Sex, & Water\n",
      "Gold School\n",
      "Beats n' Bars\n",
      "Hip-Hop R&B Nation\n",
      "Fresh & Chill\n",
      "50 Latin Classics\n",
      "Dreamy Vibes\n",
      "Rock This\n",
      "Acoustic Hits_ Oldies but Goodies\n",
      "Tear Drop\n",
      "Raw Beats\n",
      "All Aussie Hip-Hop\n",
      "Happy Hits!\n",
      "Fiesta 90era\n",
      "United States Top 50\n",
      "RapCaviar\n",
      "mint\n",
      "Para Entrenar\n",
      "Footwork Fever\n",
      "Chicano Fly Zone\n",
      "Today's Top Hits\n",
      "La Barberia\n",
      "Running Workout Goals\n",
      "A1 Hip-Hop\n",
      "Salsa Classics\n",
      "Bodega Sounds\n",
      "Drifting Apart\n",
      "Hit Rewind\n",
      "Tender\n",
      "United States Viral 50\n",
      "Vibras\n",
      "Cloud Rap\n",
      "Nashville Stripped\n",
      "Lowkey Flex\n",
      "Bachata Classics\n",
      "Walk Like A Badass\n",
      "Tejano Classics\n",
      "Global Top 50\n",
      "No Wahala\n",
      "Viva Latino\n",
      "90s Rock Anthems\n",
      "El Bloque\n",
      "Creamy\n",
      "Fantastic K-Workout\n",
      "Mellow Styles\n",
      "Dance Classics\n",
      "Love Ballads\n",
      "Happy Days\n",
      "Mind Right\n",
      "80s Love Songs\n",
      "Slay The Weights\n",
      "Exitos USA\n",
      "Global Viral 50\n",
      "Sad Vibe\n",
      "Pop Warmup 130 BPM\n",
      "I Love My 80's Rollerdisco\n",
      "Doo-Wop Dee Doo\n",
      "Latin Cardio\n",
      "Workout Twerkout\n",
      "Energetic Run 160-165 BPM\n",
      "Eat Sleep Run Repeat 140 BPM\n",
      "Energizing Classics\n",
      "Out Now\n",
      "Hella Good New Millenia Hits\n",
      "Gameday - Golden State Warriors\n",
      "Big 3\n",
      "Born To Run 150 BPM\n",
      "Endorphin Rush\n",
      "Lactic Acid Run 175 BPM\n",
      "Black History Salute\n",
      "Autumn Acoustic\n",
      "Are & Be\n",
      "Way Back Workout\n",
      "Calm Vibes\n",
      "The Piano Lounge\n",
      "Jock Jams\n",
      "Fresh Finds\n",
      "The Birth of Rhythm & Blues\n",
      "Pop Royalty\n",
      "LADY GAGA  JOANNE\n",
      "Radio 1 Playlist (BBC)\n",
      "Big Gains Workout\n",
      "Down In The Dumps\n",
      "We Everywhere\n",
      "This Is A$AP Mob\n",
      "Pumped Pop\n",
      "Fit & Smiling\n",
      "African Heat\n",
      "Chinese Hip-Hop Stars\n",
      "Corre con Rock\n",
      "Warrior Workout\n",
      "Boogaloo Essentials\n",
      "Spin Class\n",
      "Spin Fit\n",
      "Born in the USA\n",
      "Represent_ Guatemala\n",
      "Power Run 145 BPM\n",
      "Indie Sunshine\n",
      "Represent_ Puerto Rico\n",
      "Wa-oh-wa-oh!\n",
      "Fresh Finds_ Fire Emoji\n",
      "Workout Groove\n",
      "Rhythm & Dance\n",
      "Viral Hits\n",
      "For Puerto Rico Por Puerto Rico\n",
      "Ultimate Pump Up\n",
      "Wake Up Sweating\n",
      "If It Wasn't For Gucci\n",
      "Represent_ Colombia\n",
      "Latina Power_ Jackie Cruz\n",
      "Represent_ Cuba\n",
      "The Britney Body Workout\n",
      "Represent_ Brazil\n",
      "Get Your Body Right\n",
      "Represent_ Dominican Republic\n",
      "Feeling Accomplished\n",
      "Fangirls Run the World\n",
      "Represent_ Mexico\n",
      "Fresh Finds_ Poptronix\n",
      "Skylar Diggins' Training Mix\n"
     ]
    }
   ],
   "source": [
    "for i in playlist_sizes.index:\n",
    "    print(i)"
   ]
  },
  {
   "cell_type": "markdown",
   "metadata": {},
   "source": [
    "Above we've counted how many playlists there are within our data. From first glancing at the available playlist names, it seems pretty straightforward that we can subset genres by the titles of the playlists. An example of this is below. We create a dataframe solely with playlists in the rock genre, and as we can see, we have a collection of rock music. We do this for other common genres."
   ]
  },
  {
   "cell_type": "code",
   "execution_count": 121,
   "metadata": {},
   "outputs": [],
   "source": [
    "#Create Rock data frame\n",
    "rock_df = songs_df[songs_df['playlist'].str.contains(\"Rock\")]"
   ]
  },
  {
   "cell_type": "code",
   "execution_count": 122,
   "metadata": {
    "scrolled": true
   },
   "outputs": [
    {
     "data": {
      "text/plain": [
       "70s Rock Anthems           100\n",
       "60s Rock Anthems           100\n",
       "80s Rock Anthems           100\n",
       "80s Hard Rock              100\n",
       "90s Pop Rock Essentials    100\n",
       "Feel-Good Indie Rock       100\n",
       "Rockin' Vibes              100\n",
       "Rock Me UP!                 85\n",
       "Hard Rock Workout           76\n",
       "Punk Rock Workout           75\n",
       "00s Rock Anthems            60\n",
       "Rock Your Body              51\n",
       "Rock This                   50\n",
       "90s Rock Anthems            50\n",
       "Corre con Rock              30\n",
       "Name: playlist, dtype: int64"
      ]
     },
     "execution_count": 122,
     "metadata": {},
     "output_type": "execute_result"
    }
   ],
   "source": [
    "rock_df.playlist.value_counts()"
   ]
  },
  {
   "cell_type": "code",
   "execution_count": 123,
   "metadata": {},
   "outputs": [
    {
     "data": {
      "text/plain": [
       "(1177, 17)"
      ]
     },
     "execution_count": 123,
     "metadata": {},
     "output_type": "execute_result"
    }
   ],
   "source": [
    "rock_df.shape"
   ]
  },
  {
   "cell_type": "code",
   "execution_count": 124,
   "metadata": {},
   "outputs": [
    {
     "data": {
      "text/plain": [
       "(674, 17)"
      ]
     },
     "execution_count": 124,
     "metadata": {},
     "output_type": "execute_result"
    }
   ],
   "source": [
    "#Create Country DataFrame\n",
    "country_df = songs_df[songs_df['playlist'].str.contains(\"Country\")]\n",
    "country_df.shape"
   ]
  },
  {
   "cell_type": "code",
   "execution_count": 125,
   "metadata": {},
   "outputs": [],
   "source": [
    "#Create pop dataframe\n",
    "pop_df = songs_df[songs_df['playlist'].str.contains(\"Pop\")]"
   ]
  },
  {
   "cell_type": "code",
   "execution_count": 126,
   "metadata": {},
   "outputs": [
    {
     "data": {
      "text/plain": [
       "(1222, 17)"
      ]
     },
     "execution_count": 126,
     "metadata": {},
     "output_type": "execute_result"
    }
   ],
   "source": [
    "pop_df.shape"
   ]
  },
  {
   "cell_type": "code",
   "execution_count": 127,
   "metadata": {},
   "outputs": [
    {
     "data": {
      "text/plain": [
       "(987, 17)"
      ]
     },
     "execution_count": 127,
     "metadata": {},
     "output_type": "execute_result"
    }
   ],
   "source": [
    "#Collect playlists from rap and hip hop\n",
    "rap_df = songs_df[(songs_df['playlist'].str.contains(\"Rap\")) | (songs_df['playlist'].str.contains(\"Hop\")) ]\n",
    "rap_df.shape"
   ]
  },
  {
   "cell_type": "code",
   "execution_count": 128,
   "metadata": {},
   "outputs": [
    {
     "data": {
      "text/plain": [
       "(689, 17)"
      ]
     },
     "execution_count": 128,
     "metadata": {},
     "output_type": "execute_result"
    }
   ],
   "source": [
    "#Alternative\n",
    "alt_df = songs_df[songs_df['playlist'].str.contains(\"Alternative\")]\n",
    "alt_df.shape"
   ]
  },
  {
   "cell_type": "code",
   "execution_count": 129,
   "metadata": {},
   "outputs": [
    {
     "data": {
      "text/plain": [
       "(357, 17)"
      ]
     },
     "execution_count": 129,
     "metadata": {},
     "output_type": "execute_result"
    }
   ],
   "source": [
    "#Indie\n",
    "indie_df = songs_df[songs_df['playlist'].str.contains(\"Indie\")]\n",
    "indie_df.shape"
   ]
  },
  {
   "cell_type": "code",
   "execution_count": 130,
   "metadata": {},
   "outputs": [
    {
     "data": {
      "text/plain": [
       "(1094, 17)"
      ]
     },
     "execution_count": 130,
     "metadata": {},
     "output_type": "execute_result"
    }
   ],
   "source": [
    "#Latin music\n",
    "latin_df = songs_df[(songs_df['playlist'].str.contains(\"Latin\")) | \n",
    "                    (songs_df['playlist'].str.contains(\"Mex\")) | \n",
    "                    (songs_df['playlist'].str.contains(\"Columbia\")) | \n",
    "                    (songs_df['playlist'].str.contains(\"Puerto\")) | \n",
    "                    (songs_df['playlist'].str.contains(\"Brazil\")) | \n",
    "                    (songs_df['playlist'].str.contains(\"Salsa\")) | \n",
    "                    (songs_df['playlist'].str.contains(\"Bachata\")) | \n",
    "                    (songs_df['playlist'].str.contains(\"Regg\")) | \n",
    "                    (songs_df['playlist'].str.contains(\"Chicano\"))]\n",
    "latin_df.shape"
   ]
  },
  {
   "cell_type": "code",
   "execution_count": 131,
   "metadata": {},
   "outputs": [],
   "source": [
    "rock_mode = rock_df.audio_mode.value_counts()\n",
    "country_mode = country_df.audio_mode.value_counts()\n",
    "pop_mode = pop_df.audio_mode.value_counts()\n",
    "alt_mode = alt_df.audio_mode.value_counts()\n",
    "rap_mode = rap_df.audio_mode.value_counts()\n",
    "latin_mode = latin_df.audio_mode.value_counts()\n",
    "indie_mode = indie_df.audio_mode.value_counts()"
   ]
  },
  {
   "cell_type": "code",
   "execution_count": 132,
   "metadata": {},
   "outputs": [
    {
     "data": {
      "text/plain": [
       "1    827\n",
       "0    350\n",
       "Name: audio_mode, dtype: int64"
      ]
     },
     "execution_count": 132,
     "metadata": {},
     "output_type": "execute_result"
    }
   ],
   "source": [
    "rock_mode"
   ]
  },
  {
   "cell_type": "code",
   "execution_count": 133,
   "metadata": {},
   "outputs": [
    {
     "data": {
      "text/plain": [
       "array([350,  46, 441, 174, 497, 506, 136], dtype=int64)"
      ]
     },
     "execution_count": 133,
     "metadata": {},
     "output_type": "execute_result"
    }
   ],
   "source": [
    "minor = np.array([rock_mode[0], country_mode[0], pop_mode[0], alt_mode[0],rap_mode[0], latin_mode[0], indie_mode[0]])\n",
    "minor"
   ]
  },
  {
   "cell_type": "code",
   "execution_count": 134,
   "metadata": {},
   "outputs": [
    {
     "data": {
      "text/plain": [
       "array([827, 628, 781, 515, 490, 588, 221], dtype=int64)"
      ]
     },
     "execution_count": 134,
     "metadata": {},
     "output_type": "execute_result"
    }
   ],
   "source": [
    "major = np.array([rock_mode[1], country_mode[1], pop_mode[1], alt_mode[1],rap_mode[1], latin_mode[1], indie_mode[1]])\n",
    "major"
   ]
  },
  {
   "cell_type": "code",
   "execution_count": 135,
   "metadata": {},
   "outputs": [
    {
     "data": {
      "text/plain": [
       "array([1177,  674, 1222,  689,  987, 1094,  357], dtype=int64)"
      ]
     },
     "execution_count": 135,
     "metadata": {},
     "output_type": "execute_result"
    }
   ],
   "source": [
    "total_modes = major + minor\n",
    "total_modes"
   ]
  },
  {
   "cell_type": "code",
   "execution_count": 168,
   "metadata": {},
   "outputs": [],
   "source": [
    "genres = [\"rock\", \"country\", \"pop\", \"alternative\", \"rap\", \"latin\", \"indie\"]"
   ]
  },
  {
   "cell_type": "code",
   "execution_count": 183,
   "metadata": {},
   "outputs": [
    {
     "data": {
      "text/plain": [
       "Text(0.5, 1.0, 'Modality Distribution Within Genres')"
      ]
     },
     "execution_count": 183,
     "metadata": {},
     "output_type": "execute_result"
    },
    {
     "data": {
      "image/png": "[encoded data removed]",
      "text/plain": [
       "<Figure size 1080x720 with 1 Axes>"
      ]
     },
     "metadata": {},
     "output_type": "display_data"
    }
   ],
   "source": [
    "sns.set_style(\"white\")\n",
    "sns.set_context({\"figure.figsize\": (15, 10)})\n",
    "\n",
    "#Plot 1 - background - \"total\" (top) series\n",
    "ax1 = sns.barplot(x = genres, y = total_modes, color = \"red\")\n",
    "\n",
    "#Plot 2 - overlay - \"bottom\" series\n",
    "bottom_plot = sns.barplot(x = genres, y = major, color = \"#0000A3\")\n",
    "\n",
    "\n",
    "topbar = plt.Rectangle((0,0),1,1,fc=\"red\", edgecolor = 'none')\n",
    "bottombar = plt.Rectangle((0,0),1,1,fc='#0000A3',  edgecolor = 'none')\n",
    "l = plt.legend([bottombar, topbar], ['Major', 'Minor'], loc=1, ncol = 2, prop={'size':16})\n",
    "l.draw_frame(False)\n",
    "\n",
    "#Optional code - Make plot look nicer\n",
    "sns.despine(left=True)\n",
    "bottom_plot.set_ylabel(\"Song Count\", weight = \"bold\")\n",
    "bottom_plot.set_xlabel(\"Genres\", weight = \"bold\")\n",
    "\n",
    "#Set fonts to consistent 16pt size\n",
    "for item in ([bottom_plot.xaxis.label, bottom_plot.yaxis.label] +\n",
    "             bottom_plot.get_xticklabels() + bottom_plot.get_yticklabels()):\n",
    "    item.set_fontsize(16)\n",
    "\n",
    "X = np.array(range(0,7))\n",
    "for i in X:\n",
    "    ax1.text(i,major[i]/2, major[i], color='white', ha=\"center\", fontsize = 16, weight = \"bold\")\n",
    "    bottom_plot.text(i, major[i] + minor[i]/3.5, minor[i], color =\"white\", ha = \"center\", fontsize = 16, weight = \"bold\")\n",
    "\n",
    "ax1.set_title(\"Modality Distribution Within Genres\", fontsize = 20, weight = \"bold\", ha= \"center\")"
   ]
  },
  {
   "cell_type": "code",
   "execution_count": null,
   "metadata": {},
   "outputs": [],
   "source": []
  }
 ],
 "metadata": {
  "kernelspec": {
   "display_name": "Python 3",
   "language": "python",
   "name": "python3"
  },
  "language_info": {
   "codemirror_mode": {
    "name": "ipython",
    "version": 3
   },
   "file_extension": ".py",
   "mimetype": "text/x-python",
   "name": "python",
   "nbconvert_exporter": "python",
   "pygments_lexer": "ipython3",
   "version": "3.6.6"
  }
 },
 "nbformat": 4,
 "nbformat_minor": 2
}
